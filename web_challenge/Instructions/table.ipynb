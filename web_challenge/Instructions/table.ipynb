{
 "cells": [
  {
   "cell_type": "code",
   "execution_count": 1,
   "id": "3215d6b5",
   "metadata": {},
   "outputs": [],
   "source": [
    "import pandas as pd"
   ]
  },
  {
   "cell_type": "code",
   "execution_count": 3,
   "id": "66b9b8b3",
   "metadata": {},
   "outputs": [],
   "source": [
    "pd_df = pd.read_csv('cities.csv')"
   ]
  },
  {
   "cell_type": "code",
   "execution_count": 8,
   "id": "4dd7b5b0",
   "metadata": {},
   "outputs": [],
   "source": [
    "html_df = pd_df.to_html('data_table.html')"
   ]
  },
  {
   "cell_type": "code",
   "execution_count": 9,
   "id": "fac82fd5",
   "metadata": {},
   "outputs": [],
   "source": [
    "html_df"
   ]
  },
  {
   "cell_type": "code",
   "execution_count": null,
   "id": "bdaecde0",
   "metadata": {},
   "outputs": [],
   "source": []
  }
 ],
 "metadata": {
  "kernelspec": {
   "display_name": "Python 3",
   "language": "python",
   "name": "python3"
  },
  "language_info": {
   "codemirror_mode": {
    "name": "ipython",
    "version": 3
   },
   "file_extension": ".py",
   "mimetype": "text/x-python",
   "name": "python",
   "nbconvert_exporter": "python",
   "pygments_lexer": "ipython3",
   "version": "3.8.8"
  }
 },
 "nbformat": 4,
 "nbformat_minor": 5
}
